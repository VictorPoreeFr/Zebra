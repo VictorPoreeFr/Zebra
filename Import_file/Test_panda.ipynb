{
 "cells": [
  {
   "cell_type": "code",
   "execution_count": 305,
   "metadata": {},
   "outputs": [],
   "source": [
    "import numpy as np\n",
    "import pandas as pd\n",
    "import matplotlib.pyplot as plt"
   ]
  },
  {
   "cell_type": "code",
   "execution_count": 306,
   "metadata": {},
   "outputs": [
    {
     "name": "stdout",
     "output_type": "stream",
     "text": [
      "Pattern measured on  HRPT\nWavelength:  1.155 Å\nTemperature:  0.039 K\nSample name:   Ce2Sn2O7_Cu12x50\n\n2θ angle range (in degrees):\n   - Starting angle:  3.55\n   - Ending angle:  164.5\n   - Step size:  0.05\n"
     ]
    }
   ],
   "source": [
    "Data = pd.read_fwf(\"Import_file/n_0p04K.dat\", skiprows=np.linspace (0,2,3), skipfooter=9, \\\n",
    "header=None, engine='python', sep= '\\s+'); # read data starting from line 3 and excluding the 9 last lines;\n",
    "\n",
    "Data = np.array(Data).flatten() # turns the matrix into an 1D array;\n",
    "\n",
    "Headers = pd.read_csv(\"Import_file/n_0p04K.dat\", header=None, nrows=3); #print (Headers) # read the Heasers\n",
    "Instrument = Headers[0][0];  print ('Pattern measured on ', Instrument) # get name of the instrument;\n",
    "Lambda = float(Headers[0][1].split()[1]) ; print ('Wavelength: ',Lambda, u'\\u212b') # get wavelength;\n",
    "Temp = float(Headers[1][1].split()[1]) ; print('Temperature: ', Temp, 'K') # get temperature;\n",
    "Name = Headers[1][0] ; print('Sample name: ',Name) # get name\n",
    "print()\n",
    "print('2\\u03B8 angle range (in degrees):') # get the different angle parameters;\n",
    "Start_ang = float(Headers[0][2].split()[0]) ; print('   - Starting angle: ',Start_ang)\n",
    "End_ang = float(Headers[0][2].split()[2]) ; print('   - Ending angle: ',End_ang)\n",
    "Step_size = float(Headers[0][2].split()[1]) ; print('   - Step size: ', Step_size)\n",
    "\n",
    "Footers = np.array(pd.read_csv(\"Import_file/n_0p04K.dat\",header= None))[-9:-1].flatten(); #print(Footers) # get the footers"
   ]
  },
  {
   "cell_type": "code",
   "execution_count": null,
   "metadata": {
    "collapsed": false
   },
   "outputs": [],
   "source": [
    "# Build arrays of 2theta, Intensities, errors and plot.\n",
    "theta = np.linspace(Start_ang,End_ang,num= int((End_ang-Start_ang)/Step_size)+2) ;\n",
    "# + 2 to account for first and last points;\n",
    "Intensity = Data[0:len(theta)]; # Intensity array;\n",
    "Errors = Data[len(theta):]; # error array;\n",
    "plt.errorbar(theta,Intensity,yerr=Errors); # plt.plot(theta,Intensity);\n",
    "plt.title(Name); \n",
    "plt.xlabel('2\\u03B8 (\\u00b0)');plt.ylabel('Intensity (arb.u.)')\n",
    "plt.text(110,85500,'Wavelength: '+ str(Lambda) +'\\u212b')\n",
    "plt.text(110,80000,'Temperature: ' + str(Temp) + 'K')\n",
    "plt.text(0,85000,Instrument)"
   ]
  }
 ],
 "metadata": {
  "kernelspec": {
   "display_name": "Python 3",
   "language": "python",
   "name": "python3"
  },
  "language_info": {
   "codemirror_mode": {
    "name": "ipython",
    "version": 3
   },
   "file_extension": ".py",
   "mimetype": "text/x-python",
   "name": "python",
   "nbconvert_exporter": "python",
   "pygments_lexer": "ipython3",
   "version": "3.6.8"
  }
 },
 "nbformat": 4,
 "nbformat_minor": 2
}
